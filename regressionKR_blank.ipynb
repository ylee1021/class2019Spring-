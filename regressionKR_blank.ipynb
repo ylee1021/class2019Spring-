{
 "cells": [
  {
   "cell_type": "markdown",
   "metadata": {},
   "source": [
    "인공신경망, 함수, 행렬\n",
    "\n",
    "\n",
    "벡터        행렬        벡터\n",
    "입력(1xm)  함수(mxn)    출력(1xn) \n",
    "[2 -1 3 1] [1 5   = [13 33]\n",
    "            2 6\n",
    "            3 7\n",
    "            4 8]\n",
    "            \n",
    "x,y가 수많은 데이타이고 예측하려는 중간함수가 a,b.\n",
    "중간에 벡터층이 많은 것이 딥러닝. \n"
   ]
  },
  {
   "cell_type": "markdown",
   "metadata": {},
   "source": [
    "# import modules"
   ]
  },
  {
   "cell_type": "code",
   "execution_count": 1,
   "metadata": {},
   "outputs": [
    {
     "ename": "ModuleNotFoundError",
     "evalue": "No module named 'tensorflow'",
     "output_type": "error",
     "traceback": [
      "\u001b[1;31m---------------------------------------------------------------------------\u001b[0m",
      "\u001b[1;31mModuleNotFoundError\u001b[0m                       Traceback (most recent call last)",
      "\u001b[1;32m<ipython-input-1-9a9bebcfe894>\u001b[0m in \u001b[0;36m<module>\u001b[1;34m()\u001b[0m\n\u001b[0;32m      3\u001b[0m \u001b[1;32mimport\u001b[0m \u001b[0mmatplotlib\u001b[0m\u001b[1;33m.\u001b[0m\u001b[0mpyplot\u001b[0m \u001b[1;32mas\u001b[0m \u001b[0mplt\u001b[0m\u001b[1;33m\u001b[0m\u001b[0m\n\u001b[0;32m      4\u001b[0m \u001b[1;33m\u001b[0m\u001b[0m\n\u001b[1;32m----> 5\u001b[1;33m \u001b[1;32mfrom\u001b[0m \u001b[0mtensorflow\u001b[0m\u001b[1;33m.\u001b[0m\u001b[0mkeras\u001b[0m\u001b[1;33m.\u001b[0m\u001b[0mmodels\u001b[0m \u001b[1;32mimport\u001b[0m \u001b[0mSequential\u001b[0m\u001b[1;33m\u001b[0m\u001b[0m\n\u001b[0m\u001b[0;32m      6\u001b[0m \u001b[1;32mfrom\u001b[0m \u001b[0mtensorflow\u001b[0m\u001b[1;33m.\u001b[0m\u001b[0mkeras\u001b[0m\u001b[1;33m.\u001b[0m\u001b[0mlayers\u001b[0m \u001b[1;32mimport\u001b[0m \u001b[0mDense\u001b[0m\u001b[1;33m\u001b[0m\u001b[0m\n",
      "\u001b[1;31mModuleNotFoundError\u001b[0m: No module named 'tensorflow'"
     ]
    }
   ],
   "source": [
    "import pandas as pd\n",
    "import numpy as np\n",
    "import matplotlib.pyplot as plt\n",
    "\n",
    "from tensorflow.keras.models import Sequential\n",
    "from tensorflow.keras.layers import Dense"
   ]
  },
  {
   "cell_type": "markdown",
   "metadata": {},
   "source": [
    "# data preparation and visualization"
   ]
  },
  {
   "cell_type": "markdown",
   "metadata": {},
   "source": [
    "pd 안에 있는 csv 함수를 이용해서 'regression.csv' 파일을 받아온다. (read) \n",
    "data['X'] 는 데이타 x를 받는 것. \n",
    "마찬가자리로 Y도 똑같은 방식으로 받는다. "
   ]
  },
  {
   "cell_type": "code",
   "execution_count": 5,
   "metadata": {},
   "outputs": [
    {
     "data": {
      "text/plain": [
       "[<matplotlib.lines.Line2D at 0x12a9870>]"
      ]
     },
     "execution_count": 5,
     "metadata": {},
     "output_type": "execute_result"
    },
    {
     "data": {
      "image/png": "[encoded data removed]",
      "text/plain": [
       "<Figure size 432x288 with 1 Axes>"
      ]
     },
     "metadata": {},
     "output_type": "display_data"
    }
   ],
   "source": [
    "data = pd.read_csv('regression.csv')\n",
    "X = data['X']\n",
    "Y = data['Y']\n",
    "plt.plot(X,Y,'.')"
   ]
  },
  {
   "cell_type": "markdown",
   "metadata": {},
   "source": [
    "y = ax + 1 : 하나의 선으로 그 모델을 얘기한다. 무한대로 나아가는 선을 얘기. \n",
    "y = ax1 + bx2 + 1 : 입력 (x값)이 두개이고 출력은 하나라고 할 때 무한대로 나가는 평면이 구해지는 것이다, \n",
    "3차원의 정보를 2차원(면) 수준으로 설명. 즉, 한 차원 더 낮게 생각. "
   ]
  },
  {
   "cell_type": "markdown",
   "metadata": {},
   "source": [
    "# create model"
   ]
  },
  {
   "cell_type": "markdown",
   "metadata": {},
   "source": [
    "모델의 껍데기: sequence 형태\n",
    "\n",
    "모델을 정해줘. 두번째 줄에서 입출력의 갯수를 정함으로써 이 모델의 형태를 정해준다. 만약 입력값이 두 개이면 input_shape=[2]하면 된다. \n",
    "Dense: 입력과 출력 사이에 화살표가 모두 connected되어 있음. 화살표를 빼는 경우도 있는데 이렇게 fully connected한 것은 dense라고 한다. \n",
    "그래서 y = ax + 1를 만들어준다. \n",
    "\n",
    "1은 y의 갯수고 input_shape=1은 x의 갯수. csv 파일에서 x와 y 모두 column이 하나였어. (출력, 입력)\n",
    "가장 간단한 인공신경망인 y = ax+b를 만드는 것이다. \n",
    "\n",
    "compile은 정리하는 것이다. \n",
    "\n",
    "optimizer는 output과 실제 정답값과 실제로 차이가 있어서 그 행렬값들을 바꾸는 것인데 그 방법 중 하나가 sgd이다. \n",
    "loss부분은 출력부와 정답값과 차이가 있는데 그 차이를 단순히 빼기가 아니라 여러가지 방법 중 하나를 채택. \n",
    "아직 데이타는 안 넣어줌.\n",
    "한 데이타를 사용하는데 epoch을 돌려서 훈련한다. 'sgd'\n",
    "loss는 출력부와 정답값과 차이가 있는데 단순히 차이를 parameter에 반영을 하는 것이 mse (mean standard ??) "
   ]
  },
  {
   "cell_type": "code",
   "execution_count": 6,
   "metadata": {
    "scrolled": false
   },
   "outputs": [
    {
     "ename": "NameError",
     "evalue": "name 'Sequential' is not defined",
     "output_type": "error",
     "traceback": [
      "\u001b[1;31m---------------------------------------------------------------------------\u001b[0m",
      "\u001b[1;31mNameError\u001b[0m                                 Traceback (most recent call last)",
      "\u001b[1;32m<ipython-input-6-918d710961d6>\u001b[0m in \u001b[0;36m<module>\u001b[1;34m()\u001b[0m\n\u001b[1;32m----> 1\u001b[1;33m \u001b[0mmodel\u001b[0m \u001b[1;33m=\u001b[0m \u001b[0mSequential\u001b[0m\u001b[1;33m(\u001b[0m\u001b[1;33m)\u001b[0m\u001b[1;33m\u001b[0m\u001b[0m\n\u001b[0m\u001b[0;32m      2\u001b[0m \u001b[0mmodel\u001b[0m\u001b[1;33m.\u001b[0m\u001b[0madd\u001b[0m\u001b[1;33m(\u001b[0m\u001b[0mDense\u001b[0m\u001b[1;33m(\u001b[0m\u001b[1;36m1\u001b[0m\u001b[1;33m,\u001b[0m \u001b[0minput_shape\u001b[0m\u001b[1;33m=\u001b[0m\u001b[1;33m[\u001b[0m\u001b[1;36m1\u001b[0m\u001b[1;33m]\u001b[0m\u001b[1;33m)\u001b[0m\u001b[1;33m)\u001b[0m\u001b[1;33m\u001b[0m\u001b[0m\n\u001b[0;32m      3\u001b[0m \u001b[0mmodel\u001b[0m\u001b[1;33m.\u001b[0m\u001b[0mcompile\u001b[0m\u001b[1;33m(\u001b[0m\u001b[0moptimizer\u001b[0m\u001b[1;33m=\u001b[0m\u001b[1;34m\"sgd\"\u001b[0m\u001b[1;33m,\u001b[0m \u001b[0mloss\u001b[0m\u001b[1;33m=\u001b[0m\u001b[1;34m'mse'\u001b[0m\u001b[1;33m)\u001b[0m\u001b[1;33m\u001b[0m\u001b[0m\n",
      "\u001b[1;31mNameError\u001b[0m: name 'Sequential' is not defined"
     ]
    }
   ],
   "source": [
    "model = Sequential()\n",
    "model.add(Dense(1, input_shape=[1]))\n",
    "model.compile(optimizer=\"sgd\", loss='mse')"
   ]
  },
  {
   "cell_type": "markdown",
   "metadata": {},
   "source": [
    "# train model"
   ]
  },
  {
   "cell_type": "markdown",
   "metadata": {},
   "source": [
    "X와 Y는 csv파일 안에 있는 x와 y 데이타\n",
    "17개의 case sample을 통해서 a, b를 훈련을 해서 받음. \n",
    "\n",
    "1000번 훈련을 시키는 것. \n",
    "training을 시킬수록 loss의 숫자를 떨어트린다. 점점 더 좋아진다. "
   ]
  },
  {
   "cell_type": "code",
   "execution_count": null,
   "metadata": {},
   "outputs": [],
   "source": [
    "model.fit(X, Y, epochs = 1000)"
   ]
  },
  {
   "cell_type": "markdown",
   "metadata": {},
   "source": [
    "# model prediction"
   ]
  },
  {
   "cell_type": "markdown",
   "metadata": {},
   "source": [
    "model.predict: a와 b를 위에서 구해놓았으니 x값을 주고 y값을 구하는데 predict \n",
    "y = model.predict(x)  : predict된 y\n",
    "'rx' : red ex\n",
    "플라팅을 하면 y=ax+b로 설정을 했으니까 직선으로 나올 수 밖에 없어. "
   ]
  },
  {
   "cell_type": "code",
   "execution_count": null,
   "metadata": {},
   "outputs": [],
   "source": [
    "x = [1, 2, 3, 4, 5, 6, 7, 8, 9, 10]\n",
    "y = model.predict(x)\n",
    "plt.plot(X, Y, '.')\n",
    "plt.plot(x, y, 'rx')\n",
    "plt.show()"
   ]
  },
  {
   "cell_type": "markdown",
   "metadata": {},
   "source": [
    "# what are a and b in y = ax + b?"
   ]
  },
  {
   "cell_type": "markdown",
   "metadata": {},
   "source": [
    "우리는 중간 행렬이 하나밖에 없으니 0(첫번째)밖에 존재하지 않아 (layer: 중간 단계) \n",
    "\n",
    "출력은 0.36992577 / -0.0044788\n",
    "\n",
    "       0.249         0.8 "
   ]
  },
  {
   "cell_type": "code",
   "execution_count": null,
   "metadata": {},
   "outputs": [],
   "source": [
    "weight = model.layers[0].get_weights()\n",
    "print(weight) "
   ]
  }
 ],
 "metadata": {
  "kernelspec": {
   "display_name": "Python 3",
   "language": "python",
   "name": "python3"
  },
  "language_info": {
   "codemirror_mode": {
    "name": "ipython",
    "version": 3
   },
   "file_extension": ".py",
   "mimetype": "text/x-python",
   "name": "python",
   "nbconvert_exporter": "python",
   "pygments_lexer": "ipython3",
   "version": "3.6.5"
  }
 },
 "nbformat": 4,
 "nbformat_minor": 1
}
