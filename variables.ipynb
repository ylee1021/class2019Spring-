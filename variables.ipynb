{
 "cells": [
  {
   "cell_type": "markdown",
   "metadata": {},
   "source": [
    "실행을 하면 memory에 들어간다. \n",
    "variables을 나간 후에 파일 선택 후 Shutdown하는 순간 memory에서 빠져나간다. 그래서 라인이 실행이 안 되기에 에러가 난다. \n"
   ]
  },
  {
   "cell_type": "code",
   "execution_count": 17,
   "metadata": {},
   "outputs": [
    {
     "name": "stdout",
     "output_type": "stream",
     "text": [
      "<class 'int'>\n"
     ]
    }
   ],
   "source": [
    "a = 1; print(type(a))"
   ]
  },
  {
   "cell_type": "markdown",
   "metadata": {},
   "source": [
    "integer: 정수 / float : 소수점 있는 수"
   ]
  },
  {
   "cell_type": "code",
   "execution_count": 18,
   "metadata": {},
   "outputs": [
    {
     "name": "stdout",
     "output_type": "stream",
     "text": [
      "<class 'float'>\n"
     ]
    }
   ],
   "source": [
    "a = 1; a = float(a); print(type(a))"
   ]
  },
  {
   "cell_type": "markdown",
   "metadata": {},
   "source": [
    "a의 type를 float에서 integer로 바꾸고 싶으면 int(a) 를 써서 실행하면 output이 1. 여기서 주의할 것은 a가 여전히 1.0이라는 사실이다. a가 근본적으로 바뀐 것이 아니다. "
   ]
  },
  {
   "cell_type": "code",
   "execution_count": 19,
   "metadata": {},
   "outputs": [
    {
     "name": "stdout",
     "output_type": "stream",
     "text": [
      "<class 'int'>\n"
     ]
    }
   ],
   "source": [
    "a = 1.2; a = int(a); print(type(a))"
   ]
  },
  {
   "cell_type": "markdown",
   "metadata": {},
   "source": [
    "string 이란 숫자가 아니라 텍스트를 말한다.\n",
    "single quote, double quote 다 가능하다. \n",
    "python에서는 순서가 0에서부터 시작된다!"
   ]
  },
  {
   "cell_type": "code",
   "execution_count": 20,
   "metadata": {},
   "outputs": [
    {
     "name": "stdout",
     "output_type": "stream",
     "text": [
      "<class 'str'>\n",
      "2\n"
     ]
    }
   ],
   "source": [
    "a = '123'; print(type(a)); print(a[1])"
   ]
  },
  {
   "cell_type": "markdown",
   "metadata": {},
   "source": [
    "list : 무조건 대괄호로 쳐 있고 중간에 콤마로 구분. list 속에는 list,문자,숫자가 들어가도 된다. \n"
   ]
  },
  {
   "cell_type": "code",
   "execution_count": 21,
   "metadata": {},
   "outputs": [
    {
     "name": "stdout",
     "output_type": "stream",
     "text": [
      "<class 'list'>\n",
      "['1', '2', '3']\n",
      "3\n"
     ]
    }
   ],
   "source": [
    "a = '123'; a = list(a); print(type(a)); print(a); print(a[2])"
   ]
  },
  {
   "cell_type": "code",
   "execution_count": 22,
   "metadata": {},
   "outputs": [
    {
     "name": "stdout",
     "output_type": "stream",
     "text": [
      "<class 'list'>\n",
      "1\n",
      "2\n",
      "[3, '4']\n"
     ]
    }
   ],
   "source": [
    "a = [1,'2', [3, '4']]; print(type(a)); print(a[0]); print(a[1]); print(a[2])"
   ]
  },
  {
   "cell_type": "markdown",
   "metadata": {},
   "source": [
    "tuple은 list와 다르게 [ ] 가 아니라 ( ) 로 표현이 되고 list랑 비슷한데 변동이 비교적 어렵다고 생각하면 된다."
   ]
  },
  {
   "cell_type": "code",
   "execution_count": 23,
   "metadata": {},
   "outputs": [
    {
     "name": "stdout",
     "output_type": "stream",
     "text": [
      "<class 'tuple'>\n",
      "1\n",
      "2\n",
      "[3, '4']\n"
     ]
    }
   ],
   "source": [
    "a = (1,'2', [3, '4']); print(type(a)); print(a[0]); print(a[1]); print(a[2])"
   ]
  },
  {
   "cell_type": "markdown",
   "metadata": {},
   "source": [
    "line 24는 list와 다르게 pairwise로 저장이 된다. class는 dict . 사전을 생각하면 될 듯/\n",
    "print(a[\"a\"]) 할 때 \"a\"의 짝궁인 apple이 나온다."
   ]
  },
  {
   "cell_type": "code",
   "execution_count": 24,
   "metadata": {},
   "outputs": [
    {
     "name": "stdout",
     "output_type": "stream",
     "text": [
      "<class 'dict'>\n",
      "apple\n"
     ]
    }
   ],
   "source": [
    "a =\t{\"a\": \"apple\", \"b\": \"orange\", \"c\": 2014}\n",
    "print(type(a))\n",
    "print(a[\"a\"])"
   ]
  },
  {
   "cell_type": "markdown",
   "metadata": {},
   "source": [
    "내부적으로 tuple이 있음/\n",
    "2 by 3 (2줄짜리와 3열)/\n",
    "콤마를 중심으로 밑으로 쌓인다. \n"
   ]
  },
  {
   "cell_type": "code",
   "execution_count": 5,
   "metadata": {},
   "outputs": [
    {
     "name": "stdout",
     "output_type": "stream",
     "text": [
      "<class 'list'>\n"
     ]
    },
    {
     "data": {
      "text/plain": [
       "[(1, 2, 3), (3, 8, 0)]"
      ]
     },
     "execution_count": 5,
     "metadata": {},
     "output_type": "execute_result"
    }
   ],
   "source": [
    "a=[(1,2,3), (3,8,0)]\n",
    "print(type(a))\n",
    "a"
   ]
  },
  {
   "cell_type": "markdown",
   "metadata": {},
   "source": [
    "import : python들이 자체적으로 가지고 있는 function은 import을 하지 않아도 된다. 하드 드라이브에 있는 것을 메모리에 받아주는 작업 \n",
    "\n",
    "파이썬에서는 행렬을 처리해줄 수 있는 것이 없어서…/ \n",
    "행렬을 바로 쓸 수 있게 해주는 것 numpy (베이식으로 있지 않으므로 메모리로 받아와야 한다) /\n",
    "directory에 모든 것을 메모리에 띄어라 : import"
   ]
  },
  {
   "cell_type": "markdown",
   "metadata": {},
   "source": [
    "as np 를 쓰지 않는다면 밑에 줄이 b = numpy.array(a) 라고 써야 한다. numpy에 array라는 함수를 쓴다! np.array(a)라고 쓰면 에러가 난다. numpy 밑에 있는 array를 사용하자\n",
    "근데 numpy라고 쓸 때마다 너무 기니까 줄여서 쓰고 싶을 때 as np 라고 설정을 하자\n"
   ]
  },
  {
   "cell_type": "markdown",
   "metadata": {},
   "source": [
    "array는 matrix 비슷한 것이다. b는 array화 되는 것이다. 그래서 27번의 output과 28번의 output이 다르다. 28의 output이 행렬화. \n",
    "패키지를 import하는데 시간이 걸린다. \n"
   ]
  },
  {
   "cell_type": "code",
   "execution_count": 6,
   "metadata": {},
   "outputs": [
    {
     "name": "stdout",
     "output_type": "stream",
     "text": [
      "[[1 2 3]\n",
      " [3 8 0]]\n",
      "<class 'numpy.ndarray'>\n"
     ]
    }
   ],
   "source": [
    "import numpy as np\n",
    "b = np.array(a)\n",
    "print(b)\n",
    "print(type(b))"
   ]
  },
  {
   "cell_type": "markdown",
   "metadata": {},
   "source": [
    "2x3 와 2x3 는 행렬상 곱할 수가 없다. \n",
    "그런데 여기서 array 는 곱할 수가 있다. array는 형태만 행렬과 비슷하지 행렬은 아니라서 곱하는 것이 가능하다. \n"
   ]
  },
  {
   "cell_type": "code",
   "execution_count": 7,
   "metadata": {},
   "outputs": [
    {
     "name": "stdout",
     "output_type": "stream",
     "text": [
      "[[ 1  4  9]\n",
      " [ 9 64  0]]\n"
     ]
    }
   ],
   "source": [
    "print(b*b)"
   ]
  },
  {
   "cell_type": "markdown",
   "metadata": {},
   "source": [
    "행렬로 바꾸려면 matrix 함수를 사용하자. "
   ]
  },
  {
   "cell_type": "code",
   "execution_count": 30,
   "metadata": {},
   "outputs": [
    {
     "name": "stdout",
     "output_type": "stream",
     "text": [
      "[[1 2 3]\n",
      " [3 8 0]]\n",
      "<class 'numpy.matrixlib.defmatrix.matrix'>\n"
     ]
    }
   ],
   "source": [
    "c = np.matrix(b)\n",
    "print(c)\n",
    "print(type(c))"
   ]
  },
  {
   "cell_type": "markdown",
   "metadata": {},
   "source": [
    "에러가 났다!! 행렬 곱하기가 안되므로"
   ]
  },
  {
   "cell_type": "code",
   "execution_count": 31,
   "metadata": {},
   "outputs": [
    {
     "ename": "ValueError",
     "evalue": "shapes (2,3) and (2,3) not aligned: 3 (dim 1) != 2 (dim 0)",
     "output_type": "error",
     "traceback": [
      "\u001b[0;31m---------------------------------------------------------------------------\u001b[0m",
      "\u001b[0;31mValueError\u001b[0m                                Traceback (most recent call last)",
      "\u001b[0;32m<ipython-input-31-e3831a8239a8>\u001b[0m in \u001b[0;36m<module>\u001b[0;34m\u001b[0m\n\u001b[0;32m----> 1\u001b[0;31m \u001b[0mc\u001b[0m\u001b[0;34m*\u001b[0m\u001b[0mc\u001b[0m\u001b[0;34m\u001b[0m\u001b[0;34m\u001b[0m\u001b[0m\n\u001b[0m",
      "\u001b[0;32m~/anaconda3/lib/python3.7/site-packages/numpy/matrixlib/defmatrix.py\u001b[0m in \u001b[0;36m__mul__\u001b[0;34m(self, other)\u001b[0m\n\u001b[1;32m    213\u001b[0m         \u001b[0;32mif\u001b[0m \u001b[0misinstance\u001b[0m\u001b[0;34m(\u001b[0m\u001b[0mother\u001b[0m\u001b[0;34m,\u001b[0m \u001b[0;34m(\u001b[0m\u001b[0mN\u001b[0m\u001b[0;34m.\u001b[0m\u001b[0mndarray\u001b[0m\u001b[0;34m,\u001b[0m \u001b[0mlist\u001b[0m\u001b[0;34m,\u001b[0m \u001b[0mtuple\u001b[0m\u001b[0;34m)\u001b[0m\u001b[0;34m)\u001b[0m \u001b[0;34m:\u001b[0m\u001b[0;34m\u001b[0m\u001b[0;34m\u001b[0m\u001b[0m\n\u001b[1;32m    214\u001b[0m             \u001b[0;31m# This promotes 1-D vectors to row vectors\u001b[0m\u001b[0;34m\u001b[0m\u001b[0;34m\u001b[0m\u001b[0;34m\u001b[0m\u001b[0m\n\u001b[0;32m--> 215\u001b[0;31m             \u001b[0;32mreturn\u001b[0m \u001b[0mN\u001b[0m\u001b[0;34m.\u001b[0m\u001b[0mdot\u001b[0m\u001b[0;34m(\u001b[0m\u001b[0mself\u001b[0m\u001b[0;34m,\u001b[0m \u001b[0masmatrix\u001b[0m\u001b[0;34m(\u001b[0m\u001b[0mother\u001b[0m\u001b[0;34m)\u001b[0m\u001b[0;34m)\u001b[0m\u001b[0;34m\u001b[0m\u001b[0;34m\u001b[0m\u001b[0m\n\u001b[0m\u001b[1;32m    216\u001b[0m         \u001b[0;32mif\u001b[0m \u001b[0misscalar\u001b[0m\u001b[0;34m(\u001b[0m\u001b[0mother\u001b[0m\u001b[0;34m)\u001b[0m \u001b[0;32mor\u001b[0m \u001b[0;32mnot\u001b[0m \u001b[0mhasattr\u001b[0m\u001b[0;34m(\u001b[0m\u001b[0mother\u001b[0m\u001b[0;34m,\u001b[0m \u001b[0;34m'__rmul__'\u001b[0m\u001b[0;34m)\u001b[0m \u001b[0;34m:\u001b[0m\u001b[0;34m\u001b[0m\u001b[0;34m\u001b[0m\u001b[0m\n\u001b[1;32m    217\u001b[0m             \u001b[0;32mreturn\u001b[0m \u001b[0mN\u001b[0m\u001b[0;34m.\u001b[0m\u001b[0mdot\u001b[0m\u001b[0;34m(\u001b[0m\u001b[0mself\u001b[0m\u001b[0;34m,\u001b[0m \u001b[0mother\u001b[0m\u001b[0;34m)\u001b[0m\u001b[0;34m\u001b[0m\u001b[0;34m\u001b[0m\u001b[0m\n",
      "\u001b[0;31mValueError\u001b[0m: shapes (2,3) and (2,3) not aligned: 3 (dim 1) != 2 (dim 0)"
     ]
    }
   ],
   "source": [
    "c*c"
   ]
  },
  {
   "cell_type": "markdown",
   "metadata": {},
   "source": [
    ".T : transpose  ; numpy의 행렬이다.\n",
    "    \n",
    "그래서 2x3 와 3x2 가 곱해지므로 가능해진다. \n"
   ]
  },
  {
   "cell_type": "code",
   "execution_count": 32,
   "metadata": {},
   "outputs": [
    {
     "data": {
      "text/plain": [
       "matrix([[14, 19],\n",
       "        [19, 73]])"
      ]
     },
     "execution_count": 32,
     "metadata": {},
     "output_type": "execute_result"
    }
   ],
   "source": [
    "c*c.T"
   ]
  },
  {
   "cell_type": "markdown",
   "metadata": {},
   "source": [
    "** 어떤 함수들은 특정 variable들과 묶이는 것들이 있다.\n",
    "\n",
    "s = ‘abcdef’ \n",
    "(string을 처리할 수 있는 특정 함수들이 있지 않겠느냐? 여기다가 곱하거나 나누는 함수들은 잘 안 어울리지 않느냐? 그래서 이렇게 같이 잘 어울리는 함수들끼리 묶은 것이 객체지향 (object oriented). 이러한 grouping을 잘 해 놓은 것이 객체지향이고 이런 것을 통해서 만들어지는 것이 class) \n",
    "type(s); print(type(s))\n",
    "ouput > str \n",
    "          <class ‘str’>\n",
    "\n",
    "matrix과 associate 된 함수 중에서 하나가 T(transpose)\n"
   ]
  }
 ],
 "metadata": {
  "kernelspec": {
   "display_name": "Python 3",
   "language": "python",
   "name": "python3"
  },
  "language_info": {
   "codemirror_mode": {
    "name": "ipython",
    "version": 3
   },
   "file_extension": ".py",
   "mimetype": "text/x-python",
   "name": "python",
   "nbconvert_exporter": "python",
   "pygments_lexer": "ipython3",
   "version": "3.6.5"
  }
 },
 "nbformat": 4,
 "nbformat_minor": 1
}
